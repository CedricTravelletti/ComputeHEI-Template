{
 "cells": [
  {
   "cell_type": "code",
   "execution_count": 1,
   "id": "24b1ff55-51ff-427a-b8a7-f2feff8e7d54",
   "metadata": {},
   "outputs": [],
   "source": [
    "from mypackage.config import data_folder"
   ]
  },
  {
   "cell_type": "code",
   "execution_count": 2,
   "id": "cb007161-4a55-4559-b228-bbcdb59c77ea",
   "metadata": {},
   "outputs": [
    {
     "data": {
      "text/plain": [
       "'/home/cedric/PostPhD/HES/Research/ComputeHEI-Template/data/'"
      ]
     },
     "execution_count": 2,
     "metadata": {},
     "output_type": "execute_result"
    }
   ],
   "source": [
    "data_folder"
   ]
  },
  {
   "cell_type": "code",
   "execution_count": null,
   "id": "7c2f1ac6-29cf-46ae-ac49-e715414a6514",
   "metadata": {},
   "outputs": [],
   "source": []
  }
 ],
 "metadata": {
  "kernelspec": {
   "display_name": "Python 3 (ipykernel)",
   "language": "python",
   "name": "python3"
  },
  "language_info": {
   "codemirror_mode": {
    "name": "ipython",
    "version": 3
   },
   "file_extension": ".py",
   "mimetype": "text/x-python",
   "name": "python",
   "nbconvert_exporter": "python",
   "pygments_lexer": "ipython3",
   "version": "3.13.1"
  }
 },
 "nbformat": 4,
 "nbformat_minor": 5
}
